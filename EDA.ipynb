{
 "cells": [
  {
   "cell_type": "markdown",
   "metadata": {},
   "source": [
    "### **Exploratory Data Analysis (EDA)**"
   ]
  },
  {
   "cell_type": "markdown",
   "metadata": {},
   "source": [
    "Exploratory Data Analysis (EDA) is an approach to analyzing data sets to summarize their main characteristics, often with visual methods. Here's a step-by-step guide to performing EDA using the libraries you've imported:\n",
    "\n",
    "Objective : If the combination of the 'word' column and the 'coordination' column appears more than once, it is likely that they have the same document layout."
   ]
  },
  {
   "cell_type": "code",
   "execution_count": null,
   "metadata": {},
   "outputs": [],
   "source": [
    "# Importing libraries for numerical computing, data manipulation, math functions, statistical visualization, and statistical calculations\n",
    "import numpy as np\n",
    "import pandas as pd\n",
    "import math\n",
    "\n",
    "import seaborn as sns\n",
    "import matplotlib.pyplot as plt\n",
    "\n",
    "from statistics import mode\n",
    "from scipy.special import binom\n",
    "from scipy.stats import iqr"
   ]
  },
  {
   "cell_type": "markdown",
   "metadata": {},
   "source": [
    "### 1. Loading Data"
   ]
  },
  {
   "cell_type": "code",
   "execution_count": 11,
   "metadata": {},
   "outputs": [
    {
     "data": {
      "text/html": [
       "<div>\n",
       "<style scoped>\n",
       "    .dataframe tbody tr th:only-of-type {\n",
       "        vertical-align: middle;\n",
       "    }\n",
       "\n",
       "    .dataframe tbody tr th {\n",
       "        vertical-align: top;\n",
       "    }\n",
       "\n",
       "    .dataframe thead th {\n",
       "        text-align: right;\n",
       "    }\n",
       "</style>\n",
       "<table border=\"1\" class=\"dataframe\">\n",
       "  <thead>\n",
       "    <tr style=\"text-align: right;\">\n",
       "      <th></th>\n",
       "      <th>File Name &amp; Page</th>\n",
       "      <th>Word</th>\n",
       "      <th>X0</th>\n",
       "      <th>Y0</th>\n",
       "      <th>X1</th>\n",
       "      <th>Y1</th>\n",
       "      <th>X</th>\n",
       "      <th>Y</th>\n",
       "      <th>Coordinate</th>\n",
       "    </tr>\n",
       "  </thead>\n",
       "  <tbody>\n",
       "    <tr>\n",
       "      <th>0</th>\n",
       "      <td>A1_page1</td>\n",
       "      <td>Asset</td>\n",
       "      <td>164</td>\n",
       "      <td>10</td>\n",
       "      <td>194</td>\n",
       "      <td>21</td>\n",
       "      <td>179</td>\n",
       "      <td>15</td>\n",
       "      <td>(179, 15)</td>\n",
       "    </tr>\n",
       "    <tr>\n",
       "      <th>1</th>\n",
       "      <td>A1_page1</td>\n",
       "      <td>Integrity</td>\n",
       "      <td>197</td>\n",
       "      <td>10</td>\n",
       "      <td>241</td>\n",
       "      <td>21</td>\n",
       "      <td>219</td>\n",
       "      <td>15</td>\n",
       "      <td>(219, 15)</td>\n",
       "    </tr>\n",
       "    <tr>\n",
       "      <th>2</th>\n",
       "      <td>A1_page1</td>\n",
       "      <td>Management</td>\n",
       "      <td>243</td>\n",
       "      <td>10</td>\n",
       "      <td>311</td>\n",
       "      <td>21</td>\n",
       "      <td>277</td>\n",
       "      <td>15</td>\n",
       "      <td>(277, 15)</td>\n",
       "    </tr>\n",
       "    <tr>\n",
       "      <th>3</th>\n",
       "      <td>A1_page1</td>\n",
       "      <td>Department</td>\n",
       "      <td>314</td>\n",
       "      <td>10</td>\n",
       "      <td>375</td>\n",
       "      <td>21</td>\n",
       "      <td>344</td>\n",
       "      <td>15</td>\n",
       "      <td>(344, 15)</td>\n",
       "    </tr>\n",
       "    <tr>\n",
       "      <th>4</th>\n",
       "      <td>A1_page1</td>\n",
       "      <td>AIM</td>\n",
       "      <td>240</td>\n",
       "      <td>36</td>\n",
       "      <td>260</td>\n",
       "      <td>47</td>\n",
       "      <td>250</td>\n",
       "      <td>41</td>\n",
       "      <td>(250, 41)</td>\n",
       "    </tr>\n",
       "  </tbody>\n",
       "</table>\n",
       "</div>"
      ],
      "text/plain": [
       "  File Name & Page        Word   X0  Y0   X1  Y1    X   Y Coordinate\n",
       "0         A1_page1       Asset  164  10  194  21  179  15  (179, 15)\n",
       "1         A1_page1   Integrity  197  10  241  21  219  15  (219, 15)\n",
       "2         A1_page1  Management  243  10  311  21  277  15  (277, 15)\n",
       "3         A1_page1  Department  314  10  375  21  344  15  (344, 15)\n",
       "4         A1_page1         AIM  240  36  260  47  250  41  (250, 41)"
      ]
     },
     "execution_count": 11,
     "metadata": {},
     "output_type": "execute_result"
    }
   ],
   "source": [
    "# Replace 'your_excel_file.xlsx' with the actual path to your Excel file\n",
    "excel_file_path = 'C:/Users/User/Documents/Clustering/05_Excel_Output_Sample/JSONoutput_table.xlsx'\n",
    "\n",
    "# Reading the Excel file\n",
    "df = pd.read_excel(excel_file_path)\n",
    "\n",
    "df.head()"
   ]
  },
  {
   "cell_type": "code",
   "execution_count": 12,
   "metadata": {},
   "outputs": [
    {
     "name": "stdout",
     "output_type": "stream",
     "text": [
      "<class 'pandas.core.frame.DataFrame'>\n",
      "RangeIndex: 2167 entries, 0 to 2166\n",
      "Data columns (total 9 columns):\n",
      " #   Column            Non-Null Count  Dtype \n",
      "---  ------            --------------  ----- \n",
      " 0   File Name & Page  2167 non-null   object\n",
      " 1   Word              2166 non-null   object\n",
      " 2   X0                2167 non-null   int64 \n",
      " 3   Y0                2167 non-null   int64 \n",
      " 4   X1                2167 non-null   int64 \n",
      " 5   Y1                2167 non-null   int64 \n",
      " 6   X                 2167 non-null   int64 \n",
      " 7   Y                 2167 non-null   int64 \n",
      " 8   Coordinate        2167 non-null   object\n",
      "dtypes: int64(6), object(3)\n",
      "memory usage: 152.5+ KB\n"
     ]
    }
   ],
   "source": [
    "# Display concise summary of the DataFrame\n",
    "df.info()"
   ]
  },
  {
   "cell_type": "code",
   "execution_count": 13,
   "metadata": {},
   "outputs": [
    {
     "data": {
      "text/html": [
       "<div>\n",
       "<style scoped>\n",
       "    .dataframe tbody tr th:only-of-type {\n",
       "        vertical-align: middle;\n",
       "    }\n",
       "\n",
       "    .dataframe tbody tr th {\n",
       "        vertical-align: top;\n",
       "    }\n",
       "\n",
       "    .dataframe thead th {\n",
       "        text-align: right;\n",
       "    }\n",
       "</style>\n",
       "<table border=\"1\" class=\"dataframe\">\n",
       "  <thead>\n",
       "    <tr style=\"text-align: right;\">\n",
       "      <th></th>\n",
       "      <th>X0</th>\n",
       "      <th>Y0</th>\n",
       "      <th>X1</th>\n",
       "      <th>Y1</th>\n",
       "      <th>X</th>\n",
       "      <th>Y</th>\n",
       "    </tr>\n",
       "  </thead>\n",
       "  <tbody>\n",
       "    <tr>\n",
       "      <th>count</th>\n",
       "      <td>2167.000000</td>\n",
       "      <td>2167.000000</td>\n",
       "      <td>2167.000000</td>\n",
       "      <td>2167.000000</td>\n",
       "      <td>2167.000000</td>\n",
       "      <td>2167.000000</td>\n",
       "    </tr>\n",
       "    <tr>\n",
       "      <th>mean</th>\n",
       "      <td>213.580526</td>\n",
       "      <td>355.063683</td>\n",
       "      <td>241.470697</td>\n",
       "      <td>363.693124</td>\n",
       "      <td>227.485464</td>\n",
       "      <td>359.366867</td>\n",
       "    </tr>\n",
       "    <tr>\n",
       "      <th>std</th>\n",
       "      <td>145.048070</td>\n",
       "      <td>258.491159</td>\n",
       "      <td>146.135952</td>\n",
       "      <td>258.322832</td>\n",
       "      <td>145.331130</td>\n",
       "      <td>258.413756</td>\n",
       "    </tr>\n",
       "    <tr>\n",
       "      <th>min</th>\n",
       "      <td>3.000000</td>\n",
       "      <td>4.000000</td>\n",
       "      <td>10.000000</td>\n",
       "      <td>11.000000</td>\n",
       "      <td>6.000000</td>\n",
       "      <td>8.000000</td>\n",
       "    </tr>\n",
       "    <tr>\n",
       "      <th>25%</th>\n",
       "      <td>86.000000</td>\n",
       "      <td>90.000000</td>\n",
       "      <td>117.500000</td>\n",
       "      <td>99.000000</td>\n",
       "      <td>100.500000</td>\n",
       "      <td>94.000000</td>\n",
       "    </tr>\n",
       "    <tr>\n",
       "      <th>50%</th>\n",
       "      <td>189.000000</td>\n",
       "      <td>357.000000</td>\n",
       "      <td>225.000000</td>\n",
       "      <td>366.000000</td>\n",
       "      <td>203.000000</td>\n",
       "      <td>361.000000</td>\n",
       "    </tr>\n",
       "    <tr>\n",
       "      <th>75%</th>\n",
       "      <td>327.000000</td>\n",
       "      <td>605.000000</td>\n",
       "      <td>364.000000</td>\n",
       "      <td>614.000000</td>\n",
       "      <td>344.000000</td>\n",
       "      <td>609.000000</td>\n",
       "    </tr>\n",
       "    <tr>\n",
       "      <th>max</th>\n",
       "      <td>496.000000</td>\n",
       "      <td>769.000000</td>\n",
       "      <td>533.000000</td>\n",
       "      <td>777.000000</td>\n",
       "      <td>506.000000</td>\n",
       "      <td>772.000000</td>\n",
       "    </tr>\n",
       "  </tbody>\n",
       "</table>\n",
       "</div>"
      ],
      "text/plain": [
       "                X0           Y0           X1           Y1            X  \\\n",
       "count  2167.000000  2167.000000  2167.000000  2167.000000  2167.000000   \n",
       "mean    213.580526   355.063683   241.470697   363.693124   227.485464   \n",
       "std     145.048070   258.491159   146.135952   258.322832   145.331130   \n",
       "min       3.000000     4.000000    10.000000    11.000000     6.000000   \n",
       "25%      86.000000    90.000000   117.500000    99.000000   100.500000   \n",
       "50%     189.000000   357.000000   225.000000   366.000000   203.000000   \n",
       "75%     327.000000   605.000000   364.000000   614.000000   344.000000   \n",
       "max     496.000000   769.000000   533.000000   777.000000   506.000000   \n",
       "\n",
       "                 Y  \n",
       "count  2167.000000  \n",
       "mean    359.366867  \n",
       "std     258.413756  \n",
       "min       8.000000  \n",
       "25%      94.000000  \n",
       "50%     361.000000  \n",
       "75%     609.000000  \n",
       "max     772.000000  "
      ]
     },
     "execution_count": 13,
     "metadata": {},
     "output_type": "execute_result"
    }
   ],
   "source": [
    "# Generate descriptive statistics\n",
    "df.describe()"
   ]
  },
  {
   "cell_type": "markdown",
   "metadata": {},
   "source": [
    "### EDA-1"
   ]
  },
  {
   "cell_type": "markdown",
   "metadata": {},
   "source": [
    "First EDA test: Analyzing the column 'word' only.\n",
    "\n",
    "Check unique values because unique values need to be removed. Why? We need the same value from different forms"
   ]
  },
  {
   "cell_type": "code",
   "execution_count": 14,
   "metadata": {},
   "outputs": [
    {
     "data": {
      "text/plain": [
       "array(['Asset', 'Integrity', 'Management', 'Department', 'AIM', 'Form',\n",
       "       '1', 'Inspection', 'Summary', 'Report', 'Part', 'A:', 'Details',\n",
       "       '(to', 'be', 'filled', 'by', 'inspector)', 'Equipment', 'Tag:',\n",
       "       '24PL710018-1101X-ET50', 'No.:', '2017-08-CUI-24PL710018-1101X-',\n",
       "       'ET50-VI', 'Description:', 'Piping', 'DOSH', 'Registration',\n",
       "       'Purpose', 'of', 'Inspection:', 'CUI', 'Types', 'Inspections:',\n",
       "       'Tick', 'where', 'applicable', 'x', 'External', 'Others',\n",
       "       '(specify):', 'Internal', 'UTTM', 'Inspector', 'remarks:',\n",
       "       'Prepared', 'by:', 'Faded', 'paint', 'and', 'general', 'corrosion',\n",
       "       'were', 'observed', 'on', 'RV', 'flanges.', '(Inspector)', 'with',\n",
       "       'metal', 'flake', 'was', '71MOV2016', 'drain', 'nozzle.', 'Name',\n",
       "       '&', 'stamp:', 'Date:', 'B:', 'Required', 'Rectification', 'Work',\n",
       "       'Area', 'Engineer)', 'Photo', 'RA', 'criticality', 'as', 'per',\n",
       "       'No.', '(RA)', 'PSM-MI-30531', 'Critical', '(Age', 'related)',\n",
       "       '(Non-age', 'Non-critical', '2', '3', '4', 'Fit', 'for',\n",
       "       'continued', 'service:', 'Yes', 'No', 'C:', 'Approval', 'Engineer',\n",
       "       'TP', 'Inspection)', 'Reviewed', 'Approved', '(PP(M)SB', '(Area',\n",
       "       'NoItnete:r', 'nFaolr', 'non-statutory', 'inspection,', 'D',\n",
       "       '(next', 'page)', 'is', 'not', 'required',\n",
       "       '2017-03-U19-6-PL19241-151076-NI-', '6\"-PL19241-151076-NI',\n",
       "       'VI-MG3', 'From', 'K-1901', 'To', 'E-1904', 'A/B', 'Nil.', 'VI',\n",
       "       'Program', '–MG3', '1.', 'Paint', 'damaged', 'associated', 'noted',\n",
       "       'piping', 'line', '(weldment)', 'pipe', 'support.', '2.',\n",
       "       'Insulation', 'cladding', 'still', 'intact.', '3.', 'Total', 'RT',\n",
       "       'profile', ':', 'N/A.', '4.', 'Attachment', '-ISO', 'Drawing',\n",
       "       '02', 'Mar', '2017', '24PL710017-1101X-ET50',\n",
       "       '2017-09-CUI-U71-24PL710017-', '1101X-ET50-VI', 'crevice',\n",
       "       '71MOV2015', 'General', '71RV2013',\n",
       "       '607-2018-03-U31-CL3111-21(BB)-', '8\"-BD310164-1107A-NI', 'V1',\n",
       "       'H2', 'from', 'M/B', 'to', '14”-BD316201', 'Nil', 'PRBI',\n",
       "       'program', 'Azharin', 'Rahmat', 'Generally', 'found', 'in',\n",
       "       'satisfactory', 'condition.', 'deteriorated.', 'locations',\n",
       "       'carried', 'out', 'system.', 'sign', 'loss', 'recorded.', 'UT',\n",
       "       'location', 'selected', 'Highest', 'recorded', 'at', 'location.',\n",
       "       'Metal', 0, '2.18', 'mm,', 'CR', '0.109', 'mm/yr,', 'RL', '29',\n",
       "       'yr.', '13', 'April', '2018', 'Note:', 'For', 'Rev.3', 'Jun',\n",
       "       '675M-2021-08-U32-PRBI-CL3215-', '4\"-PL320004-3107A-ST', '02BB-V2',\n",
       "       'Reducer', 'P-32251A/B', '8\"-PL320004-3107A-ST', 'Program,',\n",
       "       'Corrosion', 'Loop-Circuit', '–PIP', '2021', 'Generally,',\n",
       "       'reducer', 'pipes', 'work', 'painting', 'failure.', '(Name,',\n",
       "       'Date', 'Method', 'CML', 'Lowest', 'Thickness', '(mm)', 'Wall',\n",
       "       '(mm/yr)', 'Remaining', 'Life', '(yr)', 'Stamp)', 'Mohammad',\n",
       "       'YusriNgatiman', '(4”)', '21', '11.08', '-', 'CA/20=0.08', '>20',\n",
       "       '25', 'August', 'InspEngineer', '(Inspection)', 'FIREWATER',\n",
       "       'UNDERGROUND', '2021-05-A8-FIREWATER', 'UNDERGROUND-', 'CRANE',\n",
       "       'YARD-HOLIDAY', 'TEST-VI', '(CRANE', 'YARD)', nan, 'VISUAL',\n",
       "       'INSPECTION:', 'AFTER', 'WRAPPING', 'FINAL', 'COAT', 'X',\n",
       "       'HOLIDAYTEST&DFT', '•Holiday', 'Test', 'performed', 'wrapping',\n",
       "       'area', 'satisfactory.', '•DFT', 'final', 'coat', '11.05.2021',\n",
       "       'AIM-2', 'PHOTOGRAPHY', 'REPORT', 'Rev.1', 'Aug', '2014', 'ASSET',\n",
       "       'INTEGRITY', 'MANAGEMENT', 'DEPARTMENT',\n",
       "       '2017-03-U19-6-PL19241-151076-', 'NO:', 'EQPT.', 'TAG:',\n",
       "       'PMT/PMD/PMA:', 'DATE:', 'NI-External', 'Pre-Cleaning',\n",
       "       'After-Cleaning', 'Others:', '01', 'Item:', 'View', 'Findings:',\n",
       "       'view', '6\"-PL19241-151076-NI.', '(weldment).', '03', 'support',\n",
       "       '(where', 'accessible).', '04', 'line.', '05', 'I', 'HEREBY',\n",
       "       'CERTIFY', 'THAT', 'THIS', 'IS', 'A', 'TRUE', 'AND', 'CORRECT',\n",
       "       'OF', 'MY', 'INSPECTION,', '(NAME,', 'STAMP,', 'SIGNATURE):',\n",
       "       'PREPARED', 'BY:', '24PL710017', 'NIL', '08/08/2017', 'visual',\n",
       "       '1PL710017', 'intact', '06', 'condition', '32PL710011',\n",
       "       'Isodwg24PL710017', '24PL710013', '2018-09-4-FF650380-1801Z-',\n",
       "       '4-FF650380-1801Z-NI', '08', 'Sept', 'NI-VI', 'T-75203',\n",
       "       'connected', 'equipment', 'T-75203.', 'Some', 'portion', 'black',\n",
       "       'dirt.', 'Recommendations:', 'do', 'maintenance', 'PTS',\n",
       "       'requirement.', 'failure', 'observed.', 'no', 'anomaly', 'spot',\n",
       "       '(red', 'circle).', '2018-09-4-FF650384-1801Z-',\n",
       "       '4-FF650384-1801Z-NI', 'T-75204', 'T-75204.', 'long', 'grass',\n",
       "       'water', 'stagnant', 'around', 'during', 'inspection', 'time.',\n",
       "       'cut', 'grass.', '2018-09-4-FF650385-1801Z-',\n",
       "       '4-FF650385-1801Z-NI', '4-FF650385-1801Z-NI.', 'visible',\n",
       "       'assessable).', 'Limited', 'assess', 'due', 'accumulate', 'tank',\n",
       "       'area.', 'associate', 'surface', 'bolting.',\n",
       "       '4-FF650384-1801Z-NI.'], dtype=object)"
      ]
     },
     "execution_count": 14,
     "metadata": {},
     "output_type": "execute_result"
    }
   ],
   "source": [
    "# Display unique values in the 'Word' column\n",
    "df['Word'].unique()"
   ]
  },
  {
   "cell_type": "code",
   "execution_count": 15,
   "metadata": {},
   "outputs": [
    {
     "data": {
      "text/plain": [
       "399"
      ]
     },
     "execution_count": 15,
     "metadata": {},
     "output_type": "execute_result"
    }
   ],
   "source": [
    "# Count the number of unique values in the 'Word' column\n",
    "df['Word'].nunique()"
   ]
  },
  {
   "cell_type": "code",
   "execution_count": 16,
   "metadata": {},
   "outputs": [
    {
     "data": {
      "text/plain": [
       "Inspection              59\n",
       "related)                48\n",
       "Critical                48\n",
       "No.:                    35\n",
       "Photo                   29\n",
       "                        ..\n",
       "Remaining                1\n",
       "Life                     1\n",
       "(yr)                     1\n",
       "Mohammad                 1\n",
       "4-FF650384-1801Z-NI.     1\n",
       "Name: Word, Length: 399, dtype: int64"
      ]
     },
     "execution_count": 16,
     "metadata": {},
     "output_type": "execute_result"
    }
   ],
   "source": [
    "# Calculate word counts\n",
    "df['Word'].value_counts() #mode"
   ]
  },
  {
   "cell_type": "code",
   "execution_count": 32,
   "metadata": {},
   "outputs": [],
   "source": [
    "# Calculate word counts\n",
    "word_count = df['Word'].value_counts().reset_index()\n",
    "word_count.columns = ['Word', 'Count']  # Renaming columns\n",
    "\n",
    "# Count how many words have each count\n",
    "count_frequency = word_count['Count'].value_counts().reset_index()\n",
    "count_frequency.columns = ['Count', 'Frequency']"
   ]
  },
  {
   "cell_type": "code",
   "execution_count": 33,
   "metadata": {},
   "outputs": [
    {
     "name": "stdout",
     "output_type": "stream",
     "text": [
      "    Count  Frequency\n",
      "0       1        163\n",
      "1       6         49\n",
      "2       2         43\n",
      "3      12         27\n",
      "4       4         24\n",
      "5       3         17\n",
      "6       5         11\n",
      "7       8          8\n",
      "8      18          8\n",
      "9      13          7\n",
      "10      7          6\n",
      "11     10          5\n",
      "12     14          4\n",
      "13     24          3\n",
      "14     23          3\n",
      "15     11          3\n",
      "16     20          2\n",
      "17     48          2\n",
      "18     22          2\n",
      "19     26          2\n",
      "20      9          2\n",
      "21     59          1\n",
      "22     17          1\n",
      "23     19          1\n",
      "24     25          1\n",
      "25     27          1\n",
      "26     29          1\n",
      "27     35          1\n",
      "28     15          1\n"
     ]
    }
   ],
   "source": [
    "# Display the new DataFrame\n",
    "print(count_frequency)"
   ]
  },
  {
   "cell_type": "code",
   "execution_count": 40,
   "metadata": {},
   "outputs": [
    {
     "data": {
      "text/plain": [
       "count     29.000000\n",
       "mean      13.758621\n",
       "std       31.255463\n",
       "min        1.000000\n",
       "25%        1.000000\n",
       "50%        3.000000\n",
       "75%        8.000000\n",
       "max      163.000000\n",
       "Name: Frequency, dtype: float64"
      ]
     },
     "execution_count": 40,
     "metadata": {},
     "output_type": "execute_result"
    }
   ],
   "source": [
    "count_frequency['Frequency'].describe()"
   ]
  },
  {
   "cell_type": "code",
   "execution_count": 37,
   "metadata": {},
   "outputs": [
    {
     "data": {
      "image/png": "[encoded data removed]",
      "text/plain": [
       "<Figure size 720x432 with 1 Axes>"
      ]
     },
     "metadata": {
      "needs_background": "light"
     },
     "output_type": "display_data"
    }
   ],
   "source": [
    "# Plotting the bar chart\n",
    "plt.figure(figsize=(10, 6))\n",
    "plt.bar(count_frequency['Count'], count_frequency['Frequency'], color='skyblue')\n",
    "plt.xlabel('Count of Words')\n",
    "plt.ylabel('Frequency')\n",
    "plt.title('Frequency of Word Counts')\n",
    "plt.xticks(count_frequency['Count'])\n",
    "plt.grid(axis='y')\n",
    "\n",
    "# Display the plot\n",
    "plt.show()"
   ]
  },
  {
   "cell_type": "code",
   "execution_count": 38,
   "metadata": {},
   "outputs": [
    {
     "name": "stdout",
     "output_type": "stream",
     "text": [
      "Outliers based on IQR:\n",
      "   Count  Frequency\n",
      "0      1        163\n",
      "1      6         49\n",
      "2      2         43\n",
      "3     12         27\n",
      "4      4         24\n"
     ]
    }
   ],
   "source": [
    "\n",
    "# Calculate quartiles and IQR\n",
    "Q1 = count_frequency['Frequency'].quantile(0.25)\n",
    "Q3 = count_frequency['Frequency'].quantile(0.75)\n",
    "IQR = Q3 - Q1\n",
    "\n",
    "# Determine outliers using IQR\n",
    "lower_bound = Q1 - 1.5 * IQR\n",
    "upper_bound = Q3 + 1.5 * IQR\n",
    "\n",
    "# Identify outliers\n",
    "outliers = count_frequency[(count_frequency['Frequency'] < lower_bound) | (count_frequency['Frequency'] > upper_bound)]\n",
    "\n",
    "print(\"Outliers based on IQR:\")\n",
    "print(outliers)\n"
   ]
  },
  {
   "cell_type": "code",
   "execution_count": 39,
   "metadata": {},
   "outputs": [
    {
     "data": {
      "image/png": "[encoded data removed]",
      "text/plain": [
       "<Figure size 576x432 with 1 Axes>"
      ]
     },
     "metadata": {
      "needs_background": "light"
     },
     "output_type": "display_data"
    }
   ],
   "source": [
    "# Plotting the box plot\n",
    "plt.figure(figsize=(8, 6))\n",
    "plt.boxplot(count_frequency['Frequency'], vert=False, widths=0.7, patch_artist=True, boxprops=dict(facecolor='lightblue'))\n",
    "plt.xlabel('Frequency')\n",
    "plt.title('Box Plot of Frequency')\n",
    "plt.grid(axis='x')\n",
    "\n",
    "# Display the plot\n",
    "plt.show()"
   ]
  },
  {
   "cell_type": "markdown",
   "metadata": {},
   "source": [
    "**Summary** : Identified five outliers, but it doesn't make sense as 12 is also considered an outlier."
   ]
  },
  {
   "cell_type": "markdown",
   "metadata": {},
   "source": [
    "### EDA-2"
   ]
  },
  {
   "cell_type": "markdown",
   "metadata": {},
   "source": [
    "Second EDA test: Analyzing the combined column 'word' and 'coordinate'"
   ]
  },
  {
   "cell_type": "code",
   "execution_count": 41,
   "metadata": {},
   "outputs": [],
   "source": [
    "# Combine columns 'word', 'Coordinat' into a new column 'Combined'\n",
    "df['Combined'] = df.apply(lambda row: f\"{row['Word']} , {row['Coordinate']} \", axis=1)"
   ]
  },
  {
   "cell_type": "code",
   "execution_count": 42,
   "metadata": {},
   "outputs": [
    {
     "data": {
      "text/html": [
       "<div>\n",
       "<style scoped>\n",
       "    .dataframe tbody tr th:only-of-type {\n",
       "        vertical-align: middle;\n",
       "    }\n",
       "\n",
       "    .dataframe tbody tr th {\n",
       "        vertical-align: top;\n",
       "    }\n",
       "\n",
       "    .dataframe thead th {\n",
       "        text-align: right;\n",
       "    }\n",
       "</style>\n",
       "<table border=\"1\" class=\"dataframe\">\n",
       "  <thead>\n",
       "    <tr style=\"text-align: right;\">\n",
       "      <th></th>\n",
       "      <th>File Name &amp; Page</th>\n",
       "      <th>Word</th>\n",
       "      <th>X0</th>\n",
       "      <th>Y0</th>\n",
       "      <th>X1</th>\n",
       "      <th>Y1</th>\n",
       "      <th>X</th>\n",
       "      <th>Y</th>\n",
       "      <th>Coordinate</th>\n",
       "      <th>Combined</th>\n",
       "    </tr>\n",
       "  </thead>\n",
       "  <tbody>\n",
       "    <tr>\n",
       "      <th>0</th>\n",
       "      <td>A1_page1</td>\n",
       "      <td>Asset</td>\n",
       "      <td>164</td>\n",
       "      <td>10</td>\n",
       "      <td>194</td>\n",
       "      <td>21</td>\n",
       "      <td>179</td>\n",
       "      <td>15</td>\n",
       "      <td>(179, 15)</td>\n",
       "      <td>Asset , (179, 15)</td>\n",
       "    </tr>\n",
       "    <tr>\n",
       "      <th>1</th>\n",
       "      <td>A1_page1</td>\n",
       "      <td>Integrity</td>\n",
       "      <td>197</td>\n",
       "      <td>10</td>\n",
       "      <td>241</td>\n",
       "      <td>21</td>\n",
       "      <td>219</td>\n",
       "      <td>15</td>\n",
       "      <td>(219, 15)</td>\n",
       "      <td>Integrity , (219, 15)</td>\n",
       "    </tr>\n",
       "    <tr>\n",
       "      <th>2</th>\n",
       "      <td>A1_page1</td>\n",
       "      <td>Management</td>\n",
       "      <td>243</td>\n",
       "      <td>10</td>\n",
       "      <td>311</td>\n",
       "      <td>21</td>\n",
       "      <td>277</td>\n",
       "      <td>15</td>\n",
       "      <td>(277, 15)</td>\n",
       "      <td>Management , (277, 15)</td>\n",
       "    </tr>\n",
       "    <tr>\n",
       "      <th>3</th>\n",
       "      <td>A1_page1</td>\n",
       "      <td>Department</td>\n",
       "      <td>314</td>\n",
       "      <td>10</td>\n",
       "      <td>375</td>\n",
       "      <td>21</td>\n",
       "      <td>344</td>\n",
       "      <td>15</td>\n",
       "      <td>(344, 15)</td>\n",
       "      <td>Department , (344, 15)</td>\n",
       "    </tr>\n",
       "    <tr>\n",
       "      <th>4</th>\n",
       "      <td>A1_page1</td>\n",
       "      <td>AIM</td>\n",
       "      <td>240</td>\n",
       "      <td>36</td>\n",
       "      <td>260</td>\n",
       "      <td>47</td>\n",
       "      <td>250</td>\n",
       "      <td>41</td>\n",
       "      <td>(250, 41)</td>\n",
       "      <td>AIM , (250, 41)</td>\n",
       "    </tr>\n",
       "  </tbody>\n",
       "</table>\n",
       "</div>"
      ],
      "text/plain": [
       "  File Name & Page        Word   X0  Y0   X1  Y1    X   Y Coordinate  \\\n",
       "0         A1_page1       Asset  164  10  194  21  179  15  (179, 15)   \n",
       "1         A1_page1   Integrity  197  10  241  21  219  15  (219, 15)   \n",
       "2         A1_page1  Management  243  10  311  21  277  15  (277, 15)   \n",
       "3         A1_page1  Department  314  10  375  21  344  15  (344, 15)   \n",
       "4         A1_page1         AIM  240  36  260  47  250  41  (250, 41)   \n",
       "\n",
       "                  Combined  \n",
       "0       Asset , (179, 15)   \n",
       "1   Integrity , (219, 15)   \n",
       "2  Management , (277, 15)   \n",
       "3  Department , (344, 15)   \n",
       "4         AIM , (250, 41)   "
      ]
     },
     "execution_count": 42,
     "metadata": {},
     "output_type": "execute_result"
    }
   ],
   "source": [
    "df.head()"
   ]
  },
  {
   "cell_type": "code",
   "execution_count": 43,
   "metadata": {},
   "outputs": [
    {
     "data": {
      "text/plain": [
       "array(['Asset , (179, 15) ', 'Integrity , (219, 15) ',\n",
       "       'Management , (277, 15) ', 'Department , (344, 15) ',\n",
       "       'AIM , (250, 41) ', 'Form , (277, 41) ', '1 , (296, 41) ',\n",
       "       'Inspection , (224, 54) ', 'Summary , (279, 54) ',\n",
       "       'Report , (325, 54) ', 'Part , (15, 73) ', 'A: , (31, 73) ',\n",
       "       'Inspection , (61, 73) ', 'Details , (101, 73) ',\n",
       "       '(to , (124, 73) ', 'be , (137, 73) ', 'filled , (156, 73) ',\n",
       "       'by , (174, 73) ', 'inspector) , (203, 73) ',\n",
       "       'Equipment , (26, 94) ', 'Tag: , (62, 94) ',\n",
       "       '24PL710018-1101X-ET50 , (183, 94) ', 'Report , (288, 94) ',\n",
       "       'No.: , (313, 94) ', '2017-08-CUI-24PL710018-1101X- , (460, 92) ',\n",
       "       'ET50-VI , (414, 99) ', 'Equipment , (26, 121) ',\n",
       "       'Description: , (78, 121) ', 'Piping , (143, 121) ',\n",
       "       'DOSH , (286, 121) ', 'Registration , (328, 121) ',\n",
       "       'No.: , (365, 121) ', 'Purpose , (21, 147) ', 'of , (46, 147) ',\n",
       "       'Inspection: , (77, 147) ', 'CUI , (141, 148) ',\n",
       "       'Inspection , (172, 148) ', 'Types , (16, 167) ',\n",
       "       'of , (36, 167) ', 'Inspections: , (69, 167) ',\n",
       "       'Tick , (107, 167) ', 'where , (132, 167) ',\n",
       "       'applicable , (169, 167) ', 'x , (37, 188) ',\n",
       "       'External , (68, 188) ', 'Inspection , (107, 188) ',\n",
       "       'Others , (317, 188) ', '(specify): , (351, 188) ',\n",
       "       'Internal , (66, 214) ', 'Inspection , (104, 214) ',\n",
       "       'Others , (317, 214) ', '(specify): , (351, 214) ',\n",
       "       'UTTM , (64, 241) ', 'Others , (317, 241) ',\n",
       "       '(specify): , (351, 241) ', 'Inspector , (23, 264) ',\n",
       "       'remarks: , (65, 264) ', 'Prepared , (387, 274) ',\n",
       "       'by: , (417, 274) ', 'Faded , (14, 282) ', 'paint , (37, 282) ',\n",
       "       'and , (55, 282) ', 'general , (77, 282) ',\n",
       "       'corrosion , (109, 282) ', 'were , (137, 282) ',\n",
       "       'observed , (164, 282) ', 'on , (187, 282) ', 'RV , (200, 282) ',\n",
       "       'and , (214, 282) ', 'flanges. , (238, 282) ',\n",
       "       '(Inspector) , (490, 284) ', 'CUI , (10, 291) ',\n",
       "       'with , (26, 291) ', 'metal , (45, 291) ', 'flake , (66, 291) ',\n",
       "       'was , (84, 291) ', 'observed , (110, 291) ', 'on , (133, 291) ',\n",
       "       '71MOV2016 , (162, 291) ', 'drain , (196, 291) ',\n",
       "       'nozzle. , (220, 291) ', 'Name , (380, 314) ', '& , (400, 314) ',\n",
       "       'stamp: , (421, 314) ', 'Date: , (379, 344) ', 'Part , (15, 361) ',\n",
       "       'B: , (31, 361) ', 'Required , (58, 361) ',\n",
       "       'Rectification , (107, 361) ', 'Work , (148, 361) ',\n",
       "       '(to , (167, 361) ', 'be , (181, 361) ', 'filled , (199, 361) ',\n",
       "       'by , (217, 361) ', 'Area , (235, 361) ',\n",
       "       'Engineer) , (268, 361) ', 'Photo , (46, 391) ',\n",
       "       'RA , (430, 391) ', 'criticality , (459, 391) ',\n",
       "       'as , (486, 391) ', 'per , (501, 391) ', 'No. , (17, 397) ',\n",
       "       'Required , (179, 397) ', 'Rectification , (228, 397) ',\n",
       "       'Work , (269, 397) ', '(RA) , (292, 397) ', 'No. , (46, 402) ',\n",
       "       'PSM-MI-30531 , (466, 402) ', 'Critical , (433, 419) ',\n",
       "       '(Age , (456, 419) ', 'related) , (480, 419) ', '1 , (18, 434) ',\n",
       "       'Critical , (433, 434) ', '(Non-age , (464, 434) ',\n",
       "       'related) , (497, 434) ', 'Non-critical , (441, 449) ',\n",
       "       'Critical , (433, 464) ', '(Age , (456, 464) ',\n",
       "       'related) , (480, 464) ', '2 , (18, 479) ',\n",
       "       'Critical , (433, 478) ', '(Non-age , (464, 478) ',\n",
       "       'related) , (497, 478) ', 'Non-critical , (441, 493) ',\n",
       "       'Critical , (433, 508) ', '(Age , (456, 508) ',\n",
       "       'related) , (480, 508) ', '3 , (18, 523) ',\n",
       "       'Critical , (433, 523) ', '(Non-age , (464, 523) ',\n",
       "       'related) , (497, 523) ', 'Non-critical , (441, 538) ',\n",
       "       'Critical , (433, 553) ', '(Age , (456, 553) ',\n",
       "       'related) , (480, 553) ', '4 , (18, 567) ',\n",
       "       'Critical , (433, 567) ', '(Non-age , (464, 567) ',\n",
       "       'related) , (497, 567) ', 'Non-critical , (441, 582) ',\n",
       "       'Fit , (47, 609) ', 'for , (60, 609) ', 'continued , (87, 609) ',\n",
       "       'service: , (125, 609) ', 'Yes , (194, 609) ', 'No , (261, 609) ',\n",
       "       'Part , (15, 638) ', 'C: , (31, 638) ', 'Approval , (58, 638) ',\n",
       "       '(to , (86, 638) ', 'be , (99, 638) ', 'filled , (118, 638) ',\n",
       "       'by , (136, 638) ', 'Area , (154, 638) ', 'Engineer , (185, 638) ',\n",
       "       '& , (210, 638) ', 'Area , (226, 638) ', 'TP , (244, 638) ',\n",
       "       'Inspection) , (277, 638) ', 'Reviewed , (61, 669) ',\n",
       "       'by: , (92, 669) ', 'Approved , (327, 669) ', 'by: , (358, 669) ',\n",
       "       '(PP(M)SB , (157, 683) ', 'Area , (192, 683) ',\n",
       "       'Engineer) , (227, 683) ', '(Area , (428, 683) ',\n",
       "       'TP , (449, 683) ', 'Inspection) , (483, 683) ',\n",
       "       'Name , (52, 717) ', '& , (72, 717) ', 'stamp: , (93, 717) ',\n",
       "       'Name , (320, 717) ', '& , (339, 717) ', 'stamp: , (360, 717) ',\n",
       "       'Date: , (51, 753) ', 'Date: , (318, 753) ',\n",
       "       'NoItnete:r , (19, 772) ', 'nFaolr , (39, 772) ',\n",
       "       'non-statutory , (78, 772) ', 'inspection, , (133, 772) ',\n",
       "       'Part , (168, 772) ', 'D , (183, 772) ', '(next , (199, 772) ',\n",
       "       'page) , (225, 772) ', 'is , (243, 772) ', 'not , (256, 772) ',\n",
       "       'required , (284, 772) ',\n",
       "       '2017-03-U19-6-PL19241-151076-NI- , (465, 90) ',\n",
       "       '6\"-PL19241-151076-NI , (177, 94) ', 'External , (414, 98) ',\n",
       "       'VI-MG3 , (445, 98) ', 'CUI , (468, 98) ', 'Piping , (142, 121) ',\n",
       "       'From , (165, 121) ', 'K-1901 , (189, 121) ', 'To , (209, 121) ',\n",
       "       'E-1904 , (229, 121) ', 'A/B , (251, 121) ', 'Nil. , (406, 121) ',\n",
       "       'External , (147, 148) ', 'VI , (170, 148) ', 'for , (182, 148) ',\n",
       "       'Piping , (203, 148) ', 'Program , (235, 148) ',\n",
       "       '–MG3 , (268, 148) ', 'CUI , (292, 148) ', '1. , (6, 282) ',\n",
       "       'Paint , (21, 282) ', 'damaged , (49, 282) ',\n",
       "       'associated , (88, 282) ', 'with , (116, 282) ',\n",
       "       'general , (139, 282) ', 'corrosion , (171, 282) ',\n",
       "       'noted , (200, 282) ', 'on , (217, 282) ', 'piping , (235, 282) ',\n",
       "       'line , (254, 282) ', '(weldment) , (282, 282) ',\n",
       "       'and , (311, 282) ', 'pipe , (328, 282) ', 'support. , (18, 291) ',\n",
       "       '2. , (6, 301) ', 'Insulation , (29, 301) ',\n",
       "       'cladding , (64, 301) ', 'noted , (91, 301) ',\n",
       "       'still , (109, 301) ', 'intact. , (128, 301) ', '3. , (6, 310) ',\n",
       "       'Total , (21, 310) ', 'RT , (38, 310) ', 'profile , (56, 310) ',\n",
       "       ': , (70, 310) ', 'N/A. , (82, 310) ', '4. , (6, 320) ',\n",
       "       'Attachment , (33, 320) ', ': , (56, 320) ', '-ISO , (85, 320) ',\n",
       "       'Drawing , (111, 320) ', '02 , (472, 343) ', 'Mar , (485, 343) ',\n",
       "       '2017 , (503, 343) ', '24PL710017-1101X-ET50 , (183, 94) ',\n",
       "       '2017-09-CUI-U71-24PL710017- , (459, 92) ',\n",
       "       '1101X-ET50-VI , (430, 99) ', 'CUI , (10, 282) ',\n",
       "       'with , (26, 282) ', 'metal , (45, 282) ', 'flake , (66, 282) ',\n",
       "       'and , (83, 282) ', 'crevice , (105, 282) ',\n",
       "       'corrosion , (137, 282) ', 'was , (162, 282) ',\n",
       "       'observed , (188, 282) ', 'on , (212, 282) ',\n",
       "       '71MOV2015 , (241, 282) ', 'drain , (275, 282) ',\n",
       "       'nozzle. , (299, 282) ', 'General , (17, 291) ',\n",
       "       'corrosion , (50, 291) ', 'was , (76, 291) ',\n",
       "       'observed , (102, 291) ', 'on , (125, 291) ',\n",
       "       '71RV2013 , (151, 291) ', 'flanges. , (187, 291) ',\n",
       "       '607-2018-03-U31-CL3111-21(BB)- , (461, 90) ',\n",
       "       '8\"-BD310164-1107A-NI , (178, 94) ', 'V1 , (404, 98) ',\n",
       "       'H2 , (136, 121) ', 'from , (154, 121) ', 'M/B , (173, 121) ',\n",
       "       'to , (187, 121) ', '14”-BD316201 , (223, 121) ',\n",
       "       'Nil , (404, 121) ', 'PRBI , (141, 148) ', 'program , (171, 148) ',\n",
       "       'x , (36, 186) ', 'x , (288, 188) ', 'RT , (387, 188) ',\n",
       "       'profile , (408, 188) ', 'x , (36, 240) ', 'UTTM , (63, 241) ',\n",
       "       'Azharin , (473, 268) ', 'Rahmat , (506, 268) ', '1. , (6, 275) ',\n",
       "       'Generally , (38, 275) ', 'piping , (68, 275) ',\n",
       "       'found , (91, 275) ', 'in , (107, 275) ',\n",
       "       'satisfactory , (133, 275) ', 'condition. , (172, 275) ',\n",
       "       '2. , (6, 285) ', 'Piping , (32, 285) ', 'paint , (54, 285) ',\n",
       "       'found , (76, 285) ', 'deteriorated. , (110, 285) ',\n",
       "       '3. , (6, 295) ', '1 , (23, 295) ', 'locations , (44, 295) ',\n",
       "       'of , (65, 295) ', 'RT , (76, 295) ', 'profile , (95, 295) ',\n",
       "       'was , (115, 295) ', 'carried , (136, 295) ', 'out , (156, 295) ',\n",
       "       'on , (169, 295) ', 'piping , (186, 295) ',\n",
       "       'system. , (213, 295) ', 'No , (234, 295) ', 'sign , (249, 295) ',\n",
       "       'of , (262, 295) ', 'metal , (278, 295) ', 'loss , (297, 295) ',\n",
       "       'was , (313, 295) ', 'recorded. , (340, 295) ', '4. , (6, 304) ',\n",
       "       '4 , (23, 304) ', 'UT , (33, 304) ', 'location , (55, 304) ',\n",
       "       'selected , (86, 304) ', 'on , (107, 304) ',\n",
       "       'piping , (125, 304) ', 'system. , (152, 304) ',\n",
       "       'Highest , (181, 304) ', 'metal , (207, 304) ',\n",
       "       'loss , (226, 304) ', 'recorded , (251, 304) ', 'at , (273, 304) ',\n",
       "       'UT , (284, 304) ', '4 , (294, 304) ', 'location. , (313, 304) ',\n",
       "       'Metal , (31, 314) ', 'loss , (52, 314) ', '0 , (65, 314) ',\n",
       "       '2.18 , (77, 314) ', 'mm, , (95, 314) ', 'CR , (112, 314) ',\n",
       "       '0 , (122, 314) ', '0.109 , (136, 314) ', 'mm/yr, , (162, 314) ',\n",
       "       'RL , (183, 314) ', '0 , (193, 314) ', '29 , (202, 314) ',\n",
       "       'yr. , (213, 314) ', '13 , (471, 343) ', 'April , (485, 343) ',\n",
       "       '2018 , (504, 343) ', 'Part , (15, 362) ', 'B: , (31, 362) ',\n",
       "       'Required , (58, 362) ', 'Rectification , (107, 362) ',\n",
       "       'Work , (148, 362) ', '(to , (167, 362) ', 'be , (181, 362) ',\n",
       "       'filled , (199, 362) ', 'by , (217, 362) ', 'Area , (235, 362) ',\n",
       "       'Engineer) , (268, 362) ', 'Critical , (433, 479) ',\n",
       "       '(Non-age , (464, 479) ', 'related) , (497, 479) ',\n",
       "       'Note: , (18, 772) ', 'For , (39, 772) ', 'AIM , (12, 9) ',\n",
       "       'Form , (28, 9) ', '1 , (41, 9) ', 'Rev.3 , (402, 8) ',\n",
       "       'Jun , (419, 8) ', '2018 , (434, 8) ', 'Asset , (115, 16) ',\n",
       "       'Integrity , (163, 16) ', 'Management , (232, 16) ',\n",
       "       'Department , (311, 16) ', 'Inspection , (156, 48) ',\n",
       "       'Summary , (237, 48) ', 'Report , (304, 48) ',\n",
       "       '675M-2021-08-U32-PRBI-CL3215- , (461, 90) ',\n",
       "       '4\"-PL320004-3107A-ST , (179, 94) ', '02BB-V2 , (415, 98) ',\n",
       "       'Reducer , (148, 114) ', 'from , (176, 114) ',\n",
       "       'P-32251A/B , (212, 114) ', 'to , (242, 114) ',\n",
       "       '8\"-PL320004-3107A-ST , (179, 124) ', 'Program, , (173, 148) ',\n",
       "       'Corrosion , (213, 148) ', 'Loop-Circuit , (260, 148) ',\n",
       "       '–PIP , (297, 148) ', '2021 , (321, 148) ', 'Types , (16, 168) ',\n",
       "       'of , (36, 168) ', 'Inspections: , (69, 168) ',\n",
       "       'Tick , (107, 168) ', 'where , (132, 168) ',\n",
       "       'applicable , (169, 168) ', '1. , (6, 277) ',\n",
       "       'Generally, , (39, 277) ', 'reducer , (74, 277) ',\n",
       "       'pipes , (99, 277) ', 'work , (119, 277) ', 'was , (137, 277) ',\n",
       "       'observed , (163, 277) ', 'with , (189, 277) ',\n",
       "       'general , (212, 277) ', 'corrosion , (244, 277) ',\n",
       "       'and , (269, 277) ', 'painting , (292, 277) ',\n",
       "       'failure. , (321, 277) ', 'Prepared , (387, 287) ',\n",
       "       'by: , (417, 287) ', 'Inspector , (388, 299) ',\n",
       "       '(Name, , (383, 311) ', 'Date , (413, 311) ',\n",
       "       'Method , (26, 321) ', 'CML , (66, 321) ', 'Lowest , (100, 321) ',\n",
       "       'Thickness , (126, 321) ', '(mm) , (149, 321) ',\n",
       "       'Wall , (180, 321) ', 'loss , (194, 321) ', '(mm) , (209, 321) ',\n",
       "       'CR , (239, 321) ', '(mm/yr) , (256, 321) ',\n",
       "       'Remaining , (308, 321) ', 'Life , (331, 321) ',\n",
       "       '(yr) , (343, 321) ', '& , (370, 323) ', 'Stamp) , (393, 323) ',\n",
       "       'Mohammad , (455, 333) ', 'YusriNgatiman , (506, 333) ',\n",
       "       'UTTM , (19, 337) ', '(4”) , (36, 337) ', '21 , (66, 337) ',\n",
       "       '11.08 , (123, 337) ', '- , (195, 337) ',\n",
       "       'CA/20=0.08 , (252, 337) ', '>20 , (320, 337) ',\n",
       "       '25 , (459, 342) ', 'August , (479, 342) ', '2021 , (502, 342) ',\n",
       "       'Reviewed , (30, 681) ', 'by: , (62, 681) ',\n",
       "       'Approved , (303, 681) ', 'by: , (333, 681) ', 'Area , (19, 705) ',\n",
       "       'InspEngineer , (63, 705) ', 'Area , (292, 705) ',\n",
       "       'TP , (312, 705) ', '(Inspection) , (347, 705) ',\n",
       "       '(Name, , (25, 717) ', 'Date , (55, 717) ', '& , (71, 717) ',\n",
       "       'Stamp) , (93, 717) ', '(Name, , (295, 717) ',\n",
       "       'Date , (325, 717) ', '& , (341, 717) ', 'Stamp) , (363, 717) ',\n",
       "       'FIREWATER , (152, 94) ', 'UNDERGROUND , (205, 94) ',\n",
       "       '2021-05-A8-FIREWATER , (433, 91) ', 'UNDERGROUND- , (493, 91) ',\n",
       "       'CRANE , (409, 97) ', 'YARD-HOLIDAY , (442, 97) ',\n",
       "       'TEST-VI , (475, 97) ', 'FIREWATER , (152, 114) ',\n",
       "       'UNDERGROUND , (205, 114) ', '(CRANE , (145, 124) ',\n",
       "       'YARD) , (172, 124) ', 'nan , (406, 121) ', 'VISUAL , (144, 148) ',\n",
       "       'INSPECTION: , (182, 148) ', 'FIREWATER , (229, 148) ',\n",
       "       'UNDERGROUND , (282, 148) ', 'AFTER , (325, 148) ',\n",
       "       'WRAPPING , (359, 148) ', '& , (385, 148) ', 'FINAL , (400, 148) ',\n",
       "       'COAT , (423, 148) ', 'X , (36, 187) ', 'X , (288, 189) ',\n",
       "       'HOLIDAYTEST&DFT , (419, 188) ', '•Holiday , (18, 277) ',\n",
       "       'Test , (41, 277) ', 'was , (56, 277) ', 'performed , (82, 277) ',\n",
       "       'on , (105, 277) ', 'wrapping , (127, 277) ', 'area , (151, 277) ',\n",
       "       '& , (163, 277) ', 'found , (177, 277) ',\n",
       "       'satisfactory. , (208, 277) ', '•DFT , (12, 287) ',\n",
       "       'on , (26, 287) ', 'final , (39, 287) ', 'coat , (55, 287) ',\n",
       "       'was , (71, 287) ', 'performed , (96, 287) ', '& , (118, 287) ',\n",
       "       'found , (132, 287) ', 'satisfactory. , (164, 287) ',\n",
       "       '11.05.2021 , (488, 341) ', 'Internal , (29, 772) ',\n",
       "       'AIM-2 , (102, 8) ', 'Form , (120, 8) ',\n",
       "       'PHOTOGRAPHY , (242, 13) ', 'REPORT , (321, 13) ',\n",
       "       'Rev.1 , (407, 8) ', 'Aug , (424, 8) ', '2014 , (439, 8) ',\n",
       "       'ASSET , (176, 27) ', 'INTEGRITY , (218, 27) ',\n",
       "       'MANAGEMENT , (278, 27) ', 'DEPARTMENT , (345, 27) ',\n",
       "       '2017-03-U19-6-PL19241-151076- , (100, 42) ', 'REPORT , (17, 47) ',\n",
       "       'NO: , (40, 47) ', 'EQPT. , (165, 47) ', 'TAG: , (187, 47) ',\n",
       "       '6\"-PL19241-151076-NI , (240, 46) ', 'PMT/PMD/PMA: , (327, 47) ',\n",
       "       'Nil. , (366, 46) ', 'DATE: , (446, 47) ', '02 , (466, 46) ',\n",
       "       'Mar , (479, 46) ', '2017 , (496, 46) ', 'NI-External , (68, 50) ',\n",
       "       'VI-MG3 , (99, 50) ', 'CUI , (118, 50) ',\n",
       "       'Pre-Cleaning , (62, 70) ', 'Inspection , (106, 70) ',\n",
       "       'After-Cleaning , (191, 70) ', 'Inspection , (238, 70) ',\n",
       "       'x , (295, 68) ', 'Others: , (323, 70) ', 'External , (357, 67) ',\n",
       "       'VI , (377, 67) ', 'for , (388, 67) ', 'Piping , (407, 67) ',\n",
       "       'Program , (435, 67) ', '–MG3 , (463, 67) ', 'CUI , (482, 67) ',\n",
       "       '6\"-PL19241-151076-NI , (199, 266) ', 'Photo , (65, 383) ',\n",
       "       'No.: , (85, 383) ', '01 , (142, 384) ', 'Item: , (192, 383) ',\n",
       "       'General , (257, 383) ', 'View , (281, 383) ',\n",
       "       'Findings: , (71, 404) ', 'General , (127, 403) ',\n",
       "       'view , (151, 403) ', '6\"-PL19241-151076-NI. , (204, 403) ',\n",
       "       '6\"-PL19241-151076-NI , (145, 538) ', 'Photo , (65, 734) ',\n",
       "       'No.: , (86, 734) ', '02 , (143, 735) ', 'Item: , (193, 734) ',\n",
       "       '6\"-PL19241-151076-NI , (269, 735) ', 'Findings: , (71, 755) ',\n",
       "       'Paint , (123, 754) ', 'damaged , (151, 754) ',\n",
       "       'associated , (188, 754) ', 'with , (216, 754) ',\n",
       "       'general , (239, 754) ', 'corrosion , (271, 754) ',\n",
       "       'noted , (300, 754) ', 'on , (317, 754) ', 'piping , (335, 754) ',\n",
       "       'line , (354, 754) ', '(weldment). , (385, 754) ',\n",
       "       '6\"-PL19241-151076-NI , (215, 125) ', '03 , (142, 384) ',\n",
       "       '6\"-PL19241-151076-NI , (284, 383) ', 'corrosion , (160, 403) ',\n",
       "       'noted , (189, 403) ', 'on , (205, 403) ', 'pipe , (220, 403) ',\n",
       "       'support , (243, 403) ', '(where , (272, 403) ',\n",
       "       'accessible). , (307, 403) ', '6\"-PL19241-151076-NI , (120, 584) ',\n",
       "       '04 , (143, 735) ', 'noted , (179, 754) ', 'on , (196, 754) ',\n",
       "       'piping , (214, 754) ', 'line. , (235, 754) ',\n",
       "       '6\"-PL19241-151076-NI , (196, 186) ', '05 , (140, 383) ',\n",
       "       '6\"-PL19241-151076-NI , (266, 383) ', 'Insulation , (131, 403) ',\n",
       "       'cladding , (166, 403) ', 'noted , (193, 403) ',\n",
       "       'still , (211, 403) ', 'intact. , (231, 403) ', 'I , (22, 685) ',\n",
       "       'HEREBY , (40, 685) ', 'CERTIFY , (73, 685) ',\n",
       "       'THAT , (101, 685) ', 'THIS , (122, 685) ', 'IS , (135, 685) ',\n",
       "       'A , (144, 685) ', 'TRUE , (158, 685) ', 'AND , (178, 685) ',\n",
       "       'CORRECT , (206, 685) ', 'REPORT , (240, 685) ',\n",
       "       'OF , (262, 685) ', 'MY , (275, 685) ',\n",
       "       'INSPECTION, , (307, 685) ', '(NAME, , (357, 686) ',\n",
       "       'STAMP, , (385, 686) ', 'SIGNATURE): , (424, 686) ',\n",
       "       'PREPARED , (37, 743) ', 'BY: , (65, 743) ', 'DATE: , (308, 743) ',\n",
       "       '02 , (347, 743) ', 'Mar , (360, 743) ', '2017 , (377, 743) ',\n",
       "       '2017-09-CUI-U71-24PL710017- , (97, 40) ',\n",
       "       '1101X-ET50-VI , (73, 49) ', '24PL710017 , (224, 46) ',\n",
       "       'NIL , (368, 46) ', '08/08/2017 , (483, 46) ',\n",
       "       'visual , (384, 67) ', 'Inspection , (415, 67) ',\n",
       "       '1PL710017 , (200, 280) ', '05 , (142, 384) ',\n",
       "       '1PL710017 , (239, 385) ', 'noted , (161, 403) ',\n",
       "       'intact , (183, 403) ', 'and , (202, 403) ',\n",
       "       'satisfactory , (232, 403) ', 'condition. , (272, 403) ',\n",
       "       '1PL710017 , (189, 648) ', '06 , (143, 735) ',\n",
       "       '1PL710017 , (239, 734) ', 'Insulation , (131, 754) ',\n",
       "       'noted , (162, 754) ', 'intact , (184, 754) ', 'and , (203, 754) ',\n",
       "       'satisfactory , (232, 754) ', 'condition , (271, 754) ',\n",
       "       '24PL710017 , (229, 46) ', '24PL710017 , (425, 226) ',\n",
       "       '24PL710017 , (265, 383) ', 'from , (297, 383) ',\n",
       "       '32PL710011 , (330, 383) ', '1PL710017 , (260, 686) ',\n",
       "       'condition. , (272, 754) ', 'Isodwg24PL710017 , (280, 383) ',\n",
       "       '24PL710017 , (162, 495) ', '24PL710013 , (359, 570) ',\n",
       "       '24PL710017 , (233, 735) ', 'to , (260, 735) ',\n",
       "       '24PL710013 , (288, 735) ', 'AIM , (11, 9) ', 'Form , (27, 9) ',\n",
       "       '2 , (40, 9) ', 'ASSET , (131, 10) ', 'INTEGRITY , (173, 10) ',\n",
       "       'MANAGEMENT , (233, 10) ', 'DEPARTMENT , (300, 10) ',\n",
       "       'Rev.3 , (407, 8) ', 'Jun , (424, 8) ', '2018 , (439, 8) ',\n",
       "       'PHOTOGRAPHY , (197, 25) ', 'REPORT , (276, 25) ',\n",
       "       '2018-09-4-FF650380-1801Z- , (100, 41) ',\n",
       "       '4-FF650380-1801Z-NI , (238, 46) ', 'Nil , (365, 46) ',\n",
       "       '08 , (466, 46) ', 'Sept , (480, 46) ', '2018 , (499, 46) ',\n",
       "       'NI-VI , (59, 51) ', 'Inspection , (392, 67) ',\n",
       "       'T-75203 , (107, 94) ', '4-FF650380-1801Z-NI , (170, 154) ',\n",
       "       'Photo , (65, 381) ', 'No.: , (85, 381) ', '01 , (142, 383) ',\n",
       "       'Item: , (192, 381) ', '4-FF650380-1801Z-NI , (255, 383) ',\n",
       "       'Findings: , (71, 400) ', 'View , (122, 397) ', 'of , (136, 397) ',\n",
       "       'line , (148, 397) ', '4-FF650380-1801Z-NI , (196, 397) ',\n",
       "       'connected , (256, 397) ', 'from , (285, 397) ',\n",
       "       'equipment , (314, 397) ', 'T-75203. , (352, 397) ',\n",
       "       'Some , (380, 397) ', 'portion , (405, 397) ',\n",
       "       'noted , (430, 397) ', 'with , (450, 397) ', 'black , (469, 397) ',\n",
       "       'dirt. , (121, 407) ', 'Recommendations: , (87, 418) ',\n",
       "       'To , (141, 417) ', 'do , (152, 417) ',\n",
       "       'maintenance , (182, 417) ', 'painting , (221, 417) ',\n",
       "       'as , (242, 417) ', 'per , (254, 417) ', 'PTS , (269, 417) ',\n",
       "       'requirement. , (301, 417) ', '4-FF650380-1801Z-NI , (163, 673) ',\n",
       "       'Photo , (65, 732) ', 'No.: , (86, 732) ', 'Item: , (193, 732) ',\n",
       "       '4-FF650380-1801Z-NI , (283, 735) ', 'View , (123, 747) ',\n",
       "       'of , (137, 747) ', 'line , (149, 747) ',\n",
       "       '4-FF650380-1801Z-NI , (197, 747) ', 'noted , (248, 747) ',\n",
       "       'with , (268, 747) ', 'painting , (292, 747) ',\n",
       "       'failure , (320, 747) ', 'was , (341, 747) ',\n",
       "       'observed. , (367, 747) ', 'Findings: , (71, 753) ',\n",
       "       'Recommendations: , (88, 769) ', 'To , (142, 770) ',\n",
       "       'do , (153, 770) ', 'maintenance , (183, 770) ',\n",
       "       'painting , (222, 770) ', 'as , (243, 770) ', 'per , (255, 770) ',\n",
       "       'PTS , (270, 770) ', 'requirement. , (302, 770) ',\n",
       "       '4-FF650380-1801Z-NI , (360, 220) ', '03 , (142, 383) ',\n",
       "       'View , (122, 399) ', 'of , (136, 399) ', 'line , (148, 399) ',\n",
       "       '4-FF650380-1801Z-NI , (196, 399) ', 'noted , (248, 399) ',\n",
       "       'intact , (270, 399) ', 'and , (289, 399) ', 'no , (302, 399) ',\n",
       "       'sign , (317, 399) ', 'anomaly , (341, 399) ', 'was , (366, 399) ',\n",
       "       'observed. , (392, 399) ', 'Nil. , (142, 417) ',\n",
       "       '4-FF650380-1801Z-NI , (230, 530) ', 'View , (123, 754) ',\n",
       "       'of , (137, 754) ', 'line , (149, 754) ',\n",
       "       '4-FF650380-1801Z-NI , (197, 754) ', 'noted , (248, 754) ',\n",
       "       'with , (268, 754) ', 'spot , (286, 754) ',\n",
       "       'painting , (310, 754) ', 'failure , (338, 754) ',\n",
       "       '(red , (359, 754) ', 'circle). , (380, 754) ',\n",
       "       '2018-09-4-FF650384-1801Z- , (100, 41) ',\n",
       "       '4-FF650384-1801Z-NI , (238, 46) ', 'T-75204 , (434, 95) ',\n",
       "       '4-FF650384-1801Z-NI , (309, 181) ',\n",
       "       '4-FF650384-1801Z-NI , (255, 383) ',\n",
       "       '4-FF650384-1801Z-NI , (196, 397) ', 'T-75204. , (352, 397) ',\n",
       "       'Piping , (380, 397) ', 'noted , (404, 397) ',\n",
       "       'intact , (426, 397) ', 'and , (445, 397) ', 'no , (458, 397) ',\n",
       "       'sign , (473, 397) ', 'anomaly , (128, 407) ', 'was , (153, 407) ',\n",
       "       'observed. , (180, 407) ', '4-FF650384-1801Z-NI , (331, 584) ',\n",
       "       '4-FF650384-1801Z-NI , (283, 735) ',\n",
       "       '4-FF650384-1801Z-NI , (197, 747) ', 'intact , (271, 747) ',\n",
       "       'and , (289, 747) ', 'no , (303, 747) ', 'sign , (317, 747) ',\n",
       "       'anomaly , (342, 747) ', 'was , (366, 747) ',\n",
       "       'observed , (392, 747) ', 'with , (418, 747) ',\n",
       "       'long , (435, 747) ', 'grass , (455, 747) ', 'and , (473, 747) ',\n",
       "       'water , (124, 757) ', 'stagnant , (152, 757) ',\n",
       "       'around , (182, 757) ', 'piping , (208, 757) ',\n",
       "       'area , (229, 757) ', 'during , (250, 757) ',\n",
       "       'inspection , (282, 757) ', 'time. , (311, 757) ',\n",
       "       'cut , (154, 770) ', 'long , (170, 770) ', 'grass. , (191, 770) ',\n",
       "       '2018-09-4-FF650385-1801Z- , (100, 41) ',\n",
       "       '4-FF650385-1801Z-NI , (238, 46) ',\n",
       "       '4-FF650385-1801Z-NI , (321, 204) ',\n",
       "       '4-FF650385-1801Z-NI , (255, 383) ',\n",
       "       '4-FF650385-1801Z-NI , (196, 397) ', 'equipment , (295, 397) ',\n",
       "       'T-75204. , (333, 397) ', 'Piping , (361, 397) ',\n",
       "       'noted , (385, 397) ', 'intact , (407, 397) ', 'and , (426, 397) ',\n",
       "       'no , (439, 397) ', 'sign , (454, 397) ',\n",
       "       '4-FF650385-1801Z-NI , (331, 584) ',\n",
       "       '4-FF650385-1801Z-NI , (283, 735) ',\n",
       "       '4-FF650385-1801Z-NI. , (198, 747) ', 'Piping , (251, 747) ',\n",
       "       'noted , (275, 747) ', 'intact , (297, 747) ', 'and , (316, 747) ',\n",
       "       'no , (329, 747) ', 'sign , (343, 747) ', 'anomaly , (368, 747) ',\n",
       "       'was , (393, 747) ', 'observed , (418, 747) ',\n",
       "       '(where , (449, 747) ', 'visible , (475, 747) ',\n",
       "       'and , (121, 757) ', 'assessable). , (151, 757) ',\n",
       "       'Limited , (188, 757) ', 'assess , (215, 757) ',\n",
       "       'for , (234, 757) ', 'inspection , (259, 757) ',\n",
       "       'due , (286, 757) ', 'to , (299, 757) ', 'water , (315, 757) ',\n",
       "       'stagnant , (343, 757) ', 'accumulate , (381, 757) ',\n",
       "       'around , (416, 757) ', 'tank , (439, 757) ',\n",
       "       'area. , (458, 757) ', 'Nil. , (143, 770) ',\n",
       "       '4-FF650385-1801Z-NI , (274, 283) ',\n",
       "       '4-FF650385-1801Z-NI , (196, 399) ', 'no , (303, 399) ',\n",
       "       '4-FF650385-1801Z-NI , (184, 606) ', 'View , (123, 750) ',\n",
       "       'of , (137, 750) ', 'line , (149, 750) ',\n",
       "       '4-FF650385-1801Z-NI. , (198, 750) ', 'Piping , (251, 750) ',\n",
       "       'noted , (275, 750) ', 'intact , (297, 750) ',\n",
       "       'with , (317, 750) ', 'painting , (341, 750) ',\n",
       "       'failure , (369, 750) ', 'and , (389, 750) ',\n",
       "       'associate , (414, 750) ', 'with , (440, 750) ',\n",
       "       'surface , (463, 750) ', 'corrosion , (130, 760) ',\n",
       "       'on , (154, 760) ', 'bolting. , (176, 760) ',\n",
       "       '4-FF650384-1801Z-NI , (277, 308) ',\n",
       "       '4-FF650384-1801Z-NI , (196, 399) ',\n",
       "       '4-FF650384-1801Z-NI , (184, 596) ',\n",
       "       '4-FF650384-1801Z-NI. , (198, 750) ', 'and , (316, 750) ',\n",
       "       'no , (329, 750) ', 'sign , (343, 750) ', 'anomaly , (368, 750) ',\n",
       "       'with , (393, 750) ', 'painting , (417, 750) ',\n",
       "       'failure , (445, 750) ', 'and , (465, 750) ',\n",
       "       'associate , (130, 759) ', 'with , (157, 759) ',\n",
       "       'surface , (180, 759) ', 'corrosion , (211, 759) ',\n",
       "       'was , (237, 759) ', 'observed , (262, 759) ', 'on , (285, 759) ',\n",
       "       'bolting. , (306, 759) '], dtype=object)"
      ]
     },
     "execution_count": 43,
     "metadata": {},
     "output_type": "execute_result"
    }
   ],
   "source": [
    "df['Combined'].unique()"
   ]
  },
  {
   "cell_type": "code",
   "execution_count": 44,
   "metadata": {},
   "outputs": [
    {
     "data": {
      "text/plain": [
       "881"
      ]
     },
     "execution_count": 44,
     "metadata": {},
     "output_type": "execute_result"
    }
   ],
   "source": [
    "df['Combined'].nunique()"
   ]
  },
  {
   "cell_type": "code",
   "execution_count": 45,
   "metadata": {},
   "outputs": [
    {
     "data": {
      "text/plain": [
       "Internal , (29, 772)          13\n",
       "DATE: , (446, 47)             12\n",
       "NO: , (40, 47)                12\n",
       "x , (295, 68)                 12\n",
       "Inspection , (238, 70)        12\n",
       "                              ..\n",
       "satisfactory , (133, 275)      1\n",
       "condition. , (172, 275)        1\n",
       "2. , (6, 285)                  1\n",
       "Piping , (32, 285)             1\n",
       "bolting. , (306, 759)          1\n",
       "Name: Combined, Length: 881, dtype: int64"
      ]
     },
     "execution_count": 45,
     "metadata": {},
     "output_type": "execute_result"
    }
   ],
   "source": [
    "df['Combined'].value_counts() #mode"
   ]
  },
  {
   "cell_type": "code",
   "execution_count": 47,
   "metadata": {},
   "outputs": [],
   "source": [
    "# Calculate word counts\n",
    "word_count1 = df['Combined'].value_counts().reset_index()\n",
    "word_count1.columns = ['Combined', 'Count1']  # Renaming columns\n",
    "\n",
    "# Count how many words have each count\n",
    "count_frequency1 = word_count1['Count1'].value_counts().reset_index()\n",
    "count_frequency1.columns = ['Count1', 'Frequency1']"
   ]
  },
  {
   "cell_type": "code",
   "execution_count": 48,
   "metadata": {},
   "outputs": [
    {
     "name": "stdout",
     "output_type": "stream",
     "text": [
      "   Count1  Frequency1\n",
      "0       1         509\n",
      "1       6         136\n",
      "2       2          90\n",
      "3       4          57\n",
      "4       3          55\n",
      "5       5          20\n",
      "6      12          13\n",
      "7      13           1\n"
     ]
    }
   ],
   "source": [
    "# Display the new DataFrame\n",
    "print(count_frequency1)"
   ]
  },
  {
   "cell_type": "code",
   "execution_count": 51,
   "metadata": {},
   "outputs": [
    {
     "data": {
      "text/plain": [
       "count      8.000000\n",
       "mean     110.125000\n",
       "std      167.118809\n",
       "min        1.000000\n",
       "25%       18.250000\n",
       "50%       56.000000\n",
       "75%      101.500000\n",
       "max      509.000000\n",
       "Name: Frequency1, dtype: float64"
      ]
     },
     "execution_count": 51,
     "metadata": {},
     "output_type": "execute_result"
    }
   ],
   "source": [
    "count_frequency1['Frequency1'].describe()"
   ]
  },
  {
   "cell_type": "code",
   "execution_count": 53,
   "metadata": {},
   "outputs": [
    {
     "data": {
      "image/png": "[encoded data removed]",
      "text/plain": [
       "<Figure size 720x432 with 1 Axes>"
      ]
     },
     "metadata": {
      "needs_background": "light"
     },
     "output_type": "display_data"
    }
   ],
   "source": [
    "# Plotting the bar chart\n",
    "plt.figure(figsize=(10, 6))\n",
    "plt.bar(count_frequency1['Count1'], count_frequency1['Frequency1'], color='skyblue')\n",
    "plt.xlabel('Count of Words')\n",
    "plt.ylabel('Frequency1')\n",
    "plt.title('Frequency of Word Counts')\n",
    "plt.xticks(count_frequency1['Count1'])\n",
    "plt.grid(axis='y')\n",
    "\n",
    "# Display the plot\n",
    "plt.show()"
   ]
  },
  {
   "cell_type": "code",
   "execution_count": 54,
   "metadata": {},
   "outputs": [
    {
     "name": "stdout",
     "output_type": "stream",
     "text": [
      "Outliers based on IQR:\n",
      "   Count1  Frequency1\n",
      "0       1         509\n"
     ]
    }
   ],
   "source": [
    "# Calculate quartiles and IQR\n",
    "Q1 = count_frequency1['Frequency1'].quantile(0.25)\n",
    "Q3 = count_frequency1['Frequency1'].quantile(0.75)\n",
    "IQR = Q3 - Q1\n",
    "\n",
    "# Determine outliers using IQR\n",
    "lower_bound = Q1 - 1.5 * IQR\n",
    "upper_bound = Q3 + 1.5 * IQR\n",
    "\n",
    "# Identify outliers\n",
    "outliers = count_frequency1[(count_frequency1['Frequency1'] < lower_bound) | (count_frequency1['Frequency1'] > upper_bound)]\n",
    "\n",
    "print(\"Outliers based on IQR:\")\n",
    "print(outliers)"
   ]
  },
  {
   "cell_type": "code",
   "execution_count": 55,
   "metadata": {},
   "outputs": [
    {
     "data": {
      "image/png": "[encoded data removed]",
      "text/plain": [
       "<Figure size 576x432 with 1 Axes>"
      ]
     },
     "metadata": {
      "needs_background": "light"
     },
     "output_type": "display_data"
    }
   ],
   "source": [
    "# Plotting the box plot\n",
    "plt.figure(figsize=(8, 6))\n",
    "plt.boxplot(count_frequency1['Frequency1'], vert=False, widths=0.7, patch_artist=True, boxprops=dict(facecolor='lightblue'))\n",
    "plt.xlabel('Frequency1')\n",
    "plt.title('Box Plot of Frequency')\n",
    "plt.grid(axis='x')\n",
    "\n",
    "# Display the plot\n",
    "plt.show()"
   ]
  },
  {
   "cell_type": "markdown",
   "metadata": {},
   "source": [
    "**Summary** : 1 outlier identified where 'word' and 'coordinate' have a count of 1 only. It shows this data is unique and needs to be removed."
   ]
  },
  {
   "cell_type": "markdown",
   "metadata": {},
   "source": [
    "### EDA-3"
   ]
  },
  {
   "cell_type": "markdown",
   "metadata": {},
   "source": [
    "Third EDA test: Analyzing the combined column that have remove the outliers."
   ]
  },
  {
   "cell_type": "code",
   "execution_count": 68,
   "metadata": {},
   "outputs": [
    {
     "name": "stdout",
     "output_type": "stream",
     "text": [
      "                     Combined  Count1\n",
      "0       Internal , (29, 772)       13\n",
      "1          DATE: , (446, 47)       12\n",
      "2             NO: , (40, 47)       12\n",
      "3              x , (295, 68)       12\n",
      "4     Inspection , (238, 70)       12\n",
      "..                        ...     ...\n",
      "367  Inspection , (172, 148)        2\n",
      "368            x , (36, 240)        2\n",
      "369        PRBI , (141, 148)        2\n",
      "370            x , (36, 186)        2\n",
      "371      Piping , (143, 121)        2\n",
      "\n",
      "[372 rows x 2 columns]\n"
     ]
    }
   ],
   "source": [
    "# Filter out rows where Count is 1\n",
    "word_count_filtered = word_count1[word_count1['Count1'] > 1]\n",
    "\n",
    "print(word_count_filtered)"
   ]
  },
  {
   "cell_type": "code",
   "execution_count": 69,
   "metadata": {},
   "outputs": [
    {
     "data": {
      "text/plain": [
       "array(['Internal , (29, 772) ', 'DATE: , (446, 47) ', 'NO: , (40, 47) ',\n",
       "       'x , (295, 68) ', 'Inspection , (238, 70) ',\n",
       "       'After-Cleaning , (191, 70) ', 'External , (357, 67) ',\n",
       "       'REPORT , (17, 47) ', 'Others: , (323, 70) ', 'EQPT. , (165, 47) ',\n",
       "       'TAG: , (187, 47) ', 'PMT/PMD/PMA: , (327, 47) ',\n",
       "       'Pre-Cleaning , (62, 70) ', 'Inspection , (106, 70) ',\n",
       "       '1 , (18, 434) ', 'related) , (480, 419) ', '(Age , (456, 419) ',\n",
       "       'Critical , (433, 419) ', 'PSM-MI-30531 , (466, 402) ',\n",
       "       'No. , (46, 402) ', '(RA) , (292, 397) ', '(Non-age , (464, 434) ',\n",
       "       'Critical , (433, 434) ', 'Work , (269, 397) ',\n",
       "       'Non-critical , (441, 449) ', '& , (210, 638) ',\n",
       "       'No.: , (85, 381) ', 'Photo , (65, 381) ',\n",
       "       'Inspection , (392, 67) ', 'NI-VI , (59, 51) ',\n",
       "       '2018 , (499, 46) ', 'Inspection) , (277, 638) ',\n",
       "       'TP , (244, 638) ', 'Area , (226, 638) ', 'Engineer , (185, 638) ',\n",
       "       'Rectification , (228, 397) ', 'Area , (154, 638) ',\n",
       "       'Photo , (46, 391) ', 'RA , (430, 391) ',\n",
       "       'criticality , (459, 391) ', 'as , (486, 391) ',\n",
       "       'per , (501, 391) ', 'No. , (17, 397) ', 'Required , (179, 397) ',\n",
       "       'related) , (497, 434) ', 'ASSET , (131, 10) ',\n",
       "       'Critical , (433, 464) ', 'related) , (480, 553) ',\n",
       "       'Critical , (433, 567) ', '(Non-age , (464, 567) ',\n",
       "       'related) , (497, 567) ', 'Non-critical , (441, 582) ',\n",
       "       'Fit , (47, 609) ', 'for , (60, 609) ', 'continued , (87, 609) ',\n",
       "       'service: , (125, 609) ', 'Yes , (194, 609) ', 'No , (261, 609) ',\n",
       "       'Part , (15, 638) ', 'C: , (31, 638) ', 'Approval , (58, 638) ',\n",
       "       '(to , (86, 638) ', 'be , (99, 638) ', '4 , (18, 567) ',\n",
       "       '(Age , (456, 553) ', '(Age , (456, 464) ',\n",
       "       'Critical , (433, 553) ', 'PHOTOGRAPHY , (197, 25) ',\n",
       "       'related) , (480, 464) ', '2 , (18, 479) ', 'Nil , (365, 46) ',\n",
       "       '08 , (466, 46) ', 'Sept , (480, 46) ',\n",
       "       'Non-critical , (441, 493) ', 'Critical , (433, 508) ',\n",
       "       '(Age , (456, 508) ', 'related) , (480, 508) ', '3 , (18, 523) ',\n",
       "       'Critical , (433, 523) ', '(Non-age , (464, 523) ',\n",
       "       'related) , (497, 523) ', 'Non-critical , (441, 538) ',\n",
       "       'REPORT , (276, 25) ', 'filled , (118, 638) ', '2018 , (439, 8) ',\n",
       "       'Equipment , (26, 94) ', 'of , (46, 147) ', 'Purpose , (21, 147) ',\n",
       "       'No.: , (365, 121) ', 'Registration , (328, 121) ',\n",
       "       'DOSH , (286, 121) ', 'MANAGEMENT , (278, 27) ',\n",
       "       'Description: , (78, 121) ', 'Equipment , (26, 121) ',\n",
       "       'INTEGRITY , (218, 27) ', 'ASSET , (176, 27) ',\n",
       "       'No.: , (313, 94) ', 'Report , (288, 94) ', '2014 , (439, 8) ',\n",
       "       'Tag: , (62, 94) ', 'inspector) , (203, 73) ', 'Jun , (424, 8) ',\n",
       "       'by , (174, 73) ', 'filled , (156, 73) ', 'be , (137, 73) ',\n",
       "       '(to , (124, 73) ', 'Details , (101, 73) ',\n",
       "       'Inspection , (61, 73) ', 'A: , (31, 73) ', 'Part , (15, 73) ',\n",
       "       'Aug , (424, 8) ', 'Rev.1 , (407, 8) ', 'REPORT , (321, 13) ',\n",
       "       'PHOTOGRAPHY , (242, 13) ', 'Form , (120, 8) ',\n",
       "       'AIM-2 , (102, 8) ', 'Inspection: , (77, 147) ',\n",
       "       'DEPARTMENT , (345, 27) ', 'External , (68, 188) ',\n",
       "       'Inspection , (107, 188) ', 'Rev.3 , (407, 8) ',\n",
       "       'DEPARTMENT , (300, 10) ', 'MANAGEMENT , (233, 10) ',\n",
       "       'INTEGRITY , (173, 10) ', 'by , (136, 638) ', '2 , (40, 9) ',\n",
       "       'Form , (27, 9) ', 'Item: , (192, 381) ', 'AIM , (11, 9) ',\n",
       "       'Findings: , (71, 400) ', 'Recommendations: , (87, 418) ',\n",
       "       'Photo , (65, 732) ', 'No.: , (86, 732) ', 'Item: , (193, 732) ',\n",
       "       'Findings: , (71, 753) ', 'Findings: , (71, 404) ',\n",
       "       'Item: , (192, 383) ', 'Others , (317, 188) ',\n",
       "       '(specify): , (351, 188) ', 'Internal , (66, 214) ',\n",
       "       'Inspection , (104, 214) ', 'Others , (317, 214) ',\n",
       "       '(specify): , (351, 214) ', 'Recommendations: , (88, 769) ',\n",
       "       'Others , (317, 241) ', '(specify): , (351, 241) ',\n",
       "       'Inspector , (23, 264) ', 'remarks: , (65, 264) ',\n",
       "       'Photo , (65, 383) ', 'No.: , (85, 383) ', 'To , (142, 770) ',\n",
       "       'be , (181, 361) ', 'Rectification , (107, 361) ',\n",
       "       'Engineer) , (268, 361) ', 'Part , (15, 361) ',\n",
       "       'UTTM , (64, 241) ', 'Photo , (65, 734) ', 'No.: , (86, 734) ',\n",
       "       '02 , (143, 735) ', 'Item: , (193, 734) ',\n",
       "       'Findings: , (71, 755) ', '04 , (143, 735) ', 'Area , (235, 361) ',\n",
       "       'Nil. , (142, 417) ', 'B: , (31, 361) ', 'Required , (58, 361) ',\n",
       "       'Work , (148, 361) ', '(to , (167, 361) ', 'filled , (199, 361) ',\n",
       "       'by , (217, 361) ', 'as , (243, 770) ', 'required , (284, 772) ',\n",
       "       'not , (256, 772) ', 'requirement. , (302, 770) ',\n",
       "       'PTS , (270, 770) ', 'per , (255, 770) ', 'Asset , (179, 15) ',\n",
       "       'painting , (222, 770) ', 'maintenance , (183, 770) ',\n",
       "       'do , (153, 770) ', 'page) , (225, 772) ',\n",
       "       'Integrity , (219, 15) ', 'is , (243, 772) ', 'Part , (168, 772) ',\n",
       "       '(next , (199, 772) ', 'AIM , (250, 41) ', 'Form , (277, 41) ',\n",
       "       'Area , (192, 683) ', '(PP(M)SB , (157, 683) ',\n",
       "       'by: , (358, 669) ', 'Approved , (327, 669) ', 'by: , (92, 669) ',\n",
       "       'Reviewed , (61, 669) ', '1 , (296, 41) ',\n",
       "       'Inspection , (224, 54) ', 'Date: , (379, 344) ',\n",
       "       'stamp: , (421, 314) ', '& , (400, 314) ', 'Name , (380, 314) ',\n",
       "       'by: , (417, 274) ', 'Summary , (279, 54) ', 'Report , (325, 54) ',\n",
       "       'Types , (16, 167) ', 'of , (36, 167) ',\n",
       "       'Inspections: , (69, 167) ', '(Inspector) , (490, 284) ',\n",
       "       'Tick , (107, 167) ', 'where , (132, 167) ', 'D , (183, 772) ',\n",
       "       'Management , (277, 15) ', 'applicable , (169, 167) ',\n",
       "       'Engineer) , (227, 683) ', 'Prepared , (387, 274) ',\n",
       "       '& , (339, 717) ', 'Name , (52, 717) ', 'stamp: , (360, 717) ',\n",
       "       'inspection, , (133, 772) ', 'Date: , (51, 753) ',\n",
       "       'Name , (320, 717) ', 'stamp: , (93, 717) ', '& , (72, 717) ',\n",
       "       'Date: , (318, 753) ', 'non-statutory , (78, 772) ',\n",
       "       'Inspection) , (483, 683) ', 'TP , (449, 683) ',\n",
       "       '(Area , (428, 683) ', 'Department , (344, 15) ',\n",
       "       'Insulation , (131, 403) ', 'NoItnete:r , (19, 772) ',\n",
       "       'nFaolr , (39, 772) ', '02 , (466, 46) ',\n",
       "       '6\"-PL19241-151076-NI , (240, 46) ', '03 , (142, 383) ',\n",
       "       'View , (122, 399) ', '2017-09-CUI-U71-24PL710017- , (97, 40) ',\n",
       "       '1101X-ET50-VI , (73, 49) ', 'NIL , (368, 46) ',\n",
       "       'Nil. , (366, 46) ', 'of , (136, 399) ', 'connected , (256, 397) ',\n",
       "       'Mar , (479, 46) ', 'line , (148, 399) ', 'visual , (384, 67) ',\n",
       "       '2017 , (496, 46) ', 'NI-External , (68, 50) ',\n",
       "       'VI-MG3 , (99, 50) ', 'CUI , (118, 50) ', 'CUI , (482, 67) ',\n",
       "       '–MG3 , (463, 67) ', 'Program , (435, 67) ', 'Piping , (407, 67) ',\n",
       "       'for , (388, 67) ', 'VI , (377, 67) ', 'x , (37, 188) ',\n",
       "       '08/08/2017 , (483, 46) ', 'intact , (270, 399) ',\n",
       "       'Inspection , (415, 67) ',\n",
       "       '2017-03-U19-6-PL19241-151076- , (100, 42) ', 'of , (136, 397) ',\n",
       "       'View , (122, 397) ', 'Critical , (433, 479) ', '01 , (142, 383) ',\n",
       "       '(Non-age , (464, 479) ', 'View , (123, 747) ', 'of , (137, 747) ',\n",
       "       'related) , (497, 478) ', '(Non-age , (464, 478) ',\n",
       "       'Critical , (433, 478) ', 'line , (149, 747) ',\n",
       "       'related) , (497, 479) ', 'noted , (248, 399) ',\n",
       "       'and , (289, 399) ', 'sign , (317, 399) ', 'anomaly , (341, 399) ',\n",
       "       'was , (366, 399) ', 'observed. , (392, 399) ',\n",
       "       'satisfactory , (232, 754) ', 'and , (203, 754) ',\n",
       "       'intact , (184, 754) ', 'noted , (162, 754) ',\n",
       "       'Insulation , (131, 754) ', 'line , (148, 397) ',\n",
       "       '(Name, , (295, 717) ', '& , (71, 717) ', 'Date , (55, 717) ',\n",
       "       '(Inspection) , (347, 705) ', '(Name, , (25, 717) ',\n",
       "       'Stamp) , (93, 717) ', 'Types , (16, 168) ', 'TP , (312, 705) ',\n",
       "       'Tick , (107, 168) ', 'Rev.3 , (402, 8) ', 'Jun , (419, 8) ',\n",
       "       '2018 , (434, 8) ', 'Asset , (115, 16) ', 'Integrity , (163, 16) ',\n",
       "       'Management , (232, 16) ', 'Department , (311, 16) ',\n",
       "       'Inspection , (156, 48) ', 'Summary , (237, 48) ',\n",
       "       'Report , (304, 48) ', '& , (341, 717) ', 'of , (36, 168) ',\n",
       "       'Inspections: , (69, 168) ', 'where , (132, 168) ',\n",
       "       'Area , (292, 705) ', 'applicable , (169, 168) ',\n",
       "       'Prepared , (387, 287) ', 'by: , (417, 287) ',\n",
       "       'Inspector , (388, 299) ', '(Name, , (383, 311) ',\n",
       "       'Date , (413, 311) ', '& , (370, 323) ', 'Stamp) , (393, 323) ',\n",
       "       'by: , (62, 681) ', 'Approved , (303, 681) ', 'by: , (333, 681) ',\n",
       "       'Area , (19, 705) ', 'InspEngineer , (63, 705) ',\n",
       "       'Date , (325, 717) ', 'General , (127, 403) ',\n",
       "       'Stamp) , (363, 717) ', 'condition. , (272, 754) ',\n",
       "       '4-FF650384-1801Z-NI , (238, 46) ', '24PL710017 , (224, 46) ',\n",
       "       'noted , (161, 403) ', 'intact , (183, 403) ', 'and , (202, 403) ',\n",
       "       'satisfactory , (232, 403) ', 'condition. , (272, 403) ',\n",
       "       '1PL710017 , (239, 734) ',\n",
       "       '2018-09-4-FF650384-1801Z- , (100, 41) ', 'intact , (297, 750) ',\n",
       "       '2018-09-4-FF650380-1801Z- , (100, 41) ',\n",
       "       '4-FF650380-1801Z-NI , (238, 46) ',\n",
       "       '4-FF650380-1801Z-NI , (255, 383) ', 'from , (285, 397) ',\n",
       "       'equipment , (314, 397) ', '4-FF650380-1801Z-NI , (283, 735) ',\n",
       "       'noted , (248, 747) ', 'Form , (28, 9) ', '03 , (142, 384) ',\n",
       "       'damaged , (151, 754) ', 'Paint , (123, 754) ',\n",
       "       '6\"-PL19241-151076-NI , (269, 735) ', 'noted , (275, 750) ',\n",
       "       'Piping , (251, 750) ', 'line , (149, 750) ', 'of , (137, 750) ',\n",
       "       'View , (123, 750) ', 'no , (303, 399) ',\n",
       "       '4-FF650385-1801Z-NI , (283, 735) ',\n",
       "       '4-FF650385-1801Z-NI , (255, 383) ',\n",
       "       '4-FF650385-1801Z-NI , (238, 46) ',\n",
       "       '2018-09-4-FF650385-1801Z- , (100, 41) ', '01 , (142, 384) ',\n",
       "       '4-FF650384-1801Z-NI , (283, 735) ', 'observed. , (180, 407) ',\n",
       "       'was , (153, 407) ', 'anomaly , (128, 407) ',\n",
       "       '4-FF650384-1801Z-NI , (255, 383) ', 'T-75204 , (434, 95) ',\n",
       "       '1 , (41, 9) ', 'Reviewed , (30, 681) ', 'AIM , (12, 9) ',\n",
       "       'Nil , (404, 121) ', 'CUI , (141, 148) ',\n",
       "       'Inspection , (172, 148) ', 'x , (36, 240) ', 'PRBI , (141, 148) ',\n",
       "       'x , (36, 186) ', 'Piping , (143, 121) '], dtype=object)"
      ]
     },
     "execution_count": 69,
     "metadata": {},
     "output_type": "execute_result"
    }
   ],
   "source": [
    "# Check unique values in the 'Word' column \n",
    "word_count_filtered['Combined'].unique()"
   ]
  },
  {
   "cell_type": "code",
   "execution_count": 70,
   "metadata": {},
   "outputs": [
    {
     "data": {
      "text/plain": [
       "372"
      ]
     },
     "execution_count": 70,
     "metadata": {},
     "output_type": "execute_result"
    }
   ],
   "source": [
    "word_count_filtered['Combined'].nunique()"
   ]
  },
  {
   "cell_type": "code",
   "execution_count": 71,
   "metadata": {},
   "outputs": [],
   "source": [
    "# Count how many words have each count\n",
    "count_frequency2 = word_count_filtered['Count1'].value_counts().reset_index()\n",
    "count_frequency2.columns = ['Count1', 'Frequency1']"
   ]
  },
  {
   "cell_type": "code",
   "execution_count": 72,
   "metadata": {},
   "outputs": [
    {
     "name": "stdout",
     "output_type": "stream",
     "text": [
      "   Count1  Frequency1\n",
      "0       6         136\n",
      "1       2          90\n",
      "2       4          57\n",
      "3       3          55\n",
      "4       5          20\n",
      "5      12          13\n",
      "6      13           1\n"
     ]
    }
   ],
   "source": [
    "# Display the new DataFrame\n",
    "print(count_frequency2)"
   ]
  },
  {
   "cell_type": "code",
   "execution_count": 74,
   "metadata": {},
   "outputs": [
    {
     "data": {
      "text/plain": [
       "count      7.000000\n",
       "mean      53.142857\n",
       "std       47.733387\n",
       "min        1.000000\n",
       "25%       16.500000\n",
       "50%       55.000000\n",
       "75%       73.500000\n",
       "max      136.000000\n",
       "Name: Frequency1, dtype: float64"
      ]
     },
     "execution_count": 74,
     "metadata": {},
     "output_type": "execute_result"
    }
   ],
   "source": [
    "count_frequency2['Frequency1'].describe()"
   ]
  },
  {
   "cell_type": "code",
   "execution_count": 75,
   "metadata": {},
   "outputs": [
    {
     "data": {
      "image/png": "[encoded data removed]",
      "text/plain": [
       "<Figure size 720x432 with 1 Axes>"
      ]
     },
     "metadata": {
      "needs_background": "light"
     },
     "output_type": "display_data"
    }
   ],
   "source": [
    "# Plotting the bar chart\n",
    "plt.figure(figsize=(10, 6))\n",
    "plt.bar(count_frequency2['Count1'], count_frequency2['Frequency1'], color='skyblue')\n",
    "plt.xlabel('Count of Words')\n",
    "plt.ylabel('Frequency2')\n",
    "plt.title('Frequency of Word Counts')\n",
    "plt.xticks(count_frequency2['Count1'])\n",
    "plt.grid(axis='y')\n",
    "\n",
    "# Display the plot\n",
    "plt.show()"
   ]
  },
  {
   "cell_type": "code",
   "execution_count": 76,
   "metadata": {},
   "outputs": [
    {
     "name": "stdout",
     "output_type": "stream",
     "text": [
      "Outliers based on IQR:\n",
      "Empty DataFrame\n",
      "Columns: [Count1, Frequency1]\n",
      "Index: []\n"
     ]
    }
   ],
   "source": [
    "# Calculate quartiles and IQR\n",
    "Q1 = count_frequency2['Frequency1'].quantile(0.25)\n",
    "Q3 = count_frequency2['Frequency1'].quantile(0.75)\n",
    "IQR = Q3 - Q1\n",
    "\n",
    "# Determine outliers using IQR\n",
    "lower_bound = Q1 - 1.5 * IQR\n",
    "upper_bound = Q3 + 1.5 * IQR\n",
    "\n",
    "# Identify outliers\n",
    "outliers = count_frequency2[(count_frequency2['Frequency1'] < lower_bound) | (count_frequency2['Frequency1'] > upper_bound)]\n",
    "\n",
    "print(\"Outliers based on IQR:\")\n",
    "print(outliers)"
   ]
  },
  {
   "cell_type": "code",
   "execution_count": 78,
   "metadata": {},
   "outputs": [
    {
     "data": {
      "image/png": "[encoded data removed]",
      "text/plain": [
       "<Figure size 576x432 with 1 Axes>"
      ]
     },
     "metadata": {
      "needs_background": "light"
     },
     "output_type": "display_data"
    }
   ],
   "source": [
    "# Plotting the box plot\n",
    "plt.figure(figsize=(8, 6))\n",
    "plt.boxplot(count_frequency2['Frequency1'], vert=False, widths=0.7, patch_artist=True, boxprops=dict(facecolor='lightblue'))\n",
    "plt.xlabel('Frequency2')\n",
    "plt.title('Box Plot of Frequency')\n",
    "plt.grid(axis='x')\n",
    "\n",
    "# Display the plot\n",
    "plt.show()"
   ]
  },
  {
   "cell_type": "markdown",
   "metadata": {},
   "source": [
    "**Summary** : Need to check the outliers to identified row need to remove"
   ]
  }
 ],
 "metadata": {
  "kernelspec": {
   "display_name": "base",
   "language": "python",
   "name": "python3"
  },
  "language_info": {
   "codemirror_mode": {
    "name": "ipython",
    "version": 3
   },
   "file_extension": ".py",
   "mimetype": "text/x-python",
   "name": "python",
   "nbconvert_exporter": "python",
   "pygments_lexer": "ipython3",
   "version": "3.9.0"
  }
 },
 "nbformat": 4,
 "nbformat_minor": 2
}
